{
  "nbformat": 4,
  "nbformat_minor": 0,
  "metadata": {
    "colab": {
      "provenance": [],
      "authorship_tag": "ABX9TyOuE6K6Z4ZzDoCZUQDIZKmb",
      "include_colab_link": true
    },
    "kernelspec": {
      "name": "python3",
      "display_name": "Python 3"
    },
    "language_info": {
      "name": "python"
    }
  },
  "cells": [
    {
      "cell_type": "markdown",
      "metadata": {
        "id": "view-in-github",
        "colab_type": "text"
      },
      "source": [
        "<a href=\"https://colab.research.google.com/github/michaeljtang/FingerTracker/blob/main/Ultimate_ds_py_notes.ipynb\" target=\"_parent\"><img src=\"https://colab.research.google.com/assets/colab-badge.svg\" alt=\"Open In Colab\"/></a>"
      ]
    },
    {
      "cell_type": "code",
      "execution_count": null,
      "metadata": {
        "colab": {
          "base_uri": "https://localhost:8080/"
        },
        "id": "TObBcL44BnUb",
        "outputId": "483c6a8d-189f-4e17-fc70-31562edc505f"
      },
      "outputs": [
        {
          "output_type": "stream",
          "name": "stdout",
          "text": [
            "Collecting jupyterlab_tabnine\n",
            "  Downloading jupyterlab_tabnine-0.0.24-py3-none-any.whl (178 kB)\n",
            "\u001b[?25l\r\u001b[K     |█▉                              | 10 kB 24.9 MB/s eta 0:00:01\r\u001b[K     |███▋                            | 20 kB 11.5 MB/s eta 0:00:01\r\u001b[K     |█████▌                          | 30 kB 8.4 MB/s eta 0:00:01\r\u001b[K     |███████▎                        | 40 kB 7.5 MB/s eta 0:00:01\r\u001b[K     |█████████▏                      | 51 kB 5.4 MB/s eta 0:00:01\r\u001b[K     |███████████                     | 61 kB 5.2 MB/s eta 0:00:01\r\u001b[K     |████████████▉                   | 71 kB 5.4 MB/s eta 0:00:01\r\u001b[K     |██████████████▋                 | 81 kB 6.0 MB/s eta 0:00:01\r\u001b[K     |████████████████▌               | 92 kB 4.9 MB/s eta 0:00:01\r\u001b[K     |██████████████████▎             | 102 kB 5.1 MB/s eta 0:00:01\r\u001b[K     |████████████████████▏           | 112 kB 5.1 MB/s eta 0:00:01\r\u001b[K     |██████████████████████          | 122 kB 5.1 MB/s eta 0:00:01\r\u001b[K     |███████████████████████▉        | 133 kB 5.1 MB/s eta 0:00:01\r\u001b[K     |█████████████████████████▋      | 143 kB 5.1 MB/s eta 0:00:01\r\u001b[K     |███████████████████████████▌    | 153 kB 5.1 MB/s eta 0:00:01\r\u001b[K     |█████████████████████████████▎  | 163 kB 5.1 MB/s eta 0:00:01\r\u001b[K     |███████████████████████████████▏| 174 kB 5.1 MB/s eta 0:00:01\r\u001b[K     |████████████████████████████████| 178 kB 5.1 MB/s \n",
            "\u001b[?25hInstalling collected packages: jupyterlab-tabnine\n",
            "Successfully installed jupyterlab-tabnine-0.0.24\n"
          ]
        }
      ],
      "source": [
        "pip install jupyterlab_tabnine"
      ]
    },
    {
      "cell_type": "markdown",
      "source": [
        "# **Numpy**"
      ],
      "metadata": {
        "id": "wXWZBw5n-ENe"
      }
    },
    {
      "cell_type": "code",
      "source": [
        "import numpy as np"
      ],
      "metadata": {
        "id": "kCBsCkeR-kgz"
      },
      "execution_count": null,
      "outputs": []
    },
    {
      "cell_type": "code",
      "source": [
        "#random numbers\n",
        "ran = np.random.rand(2,3)\n",
        "ran"
      ],
      "metadata": {
        "colab": {
          "base_uri": "https://localhost:8080/"
        },
        "id": "I2k1-CTm_KNQ",
        "outputId": "e558dab7-4b84-47e3-beba-4a6a4da3faad"
      },
      "execution_count": null,
      "outputs": [
        {
          "output_type": "execute_result",
          "data": {
            "text/plain": [
              "array([[0.05965754, 0.54177858, 0.44161416],\n",
              "       [0.53434921, 0.144254  , 0.67110986]])"
            ]
          },
          "metadata": {},
          "execution_count": 3
        }
      ]
    },
    {
      "cell_type": "code",
      "source": [
        "#matrix of numbers\n",
        "full = np.full((2,3),110)\n",
        "full"
      ],
      "metadata": {
        "colab": {
          "base_uri": "https://localhost:8080/"
        },
        "id": "a8voZMse_DPA",
        "outputId": "a97722f1-496e-4ca7-b8d8-d7cbc7bb987f"
      },
      "execution_count": null,
      "outputs": [
        {
          "output_type": "execute_result",
          "data": {
            "text/plain": [
              "array([[110, 110, 110],\n",
              "       [110, 110, 110]])"
            ]
          },
          "metadata": {},
          "execution_count": 4
        }
      ]
    },
    {
      "cell_type": "code",
      "source": [
        "np.count_nonzero(E < T)\n",
        "#filter matrix by value"
      ],
      "metadata": {
        "id": "9ZK7DzNCgX3O"
      },
      "execution_count": null,
      "outputs": []
    },
    {
      "cell_type": "code",
      "source": [
        "ran[-1]"
      ],
      "metadata": {
        "colab": {
          "base_uri": "https://localhost:8080/"
        },
        "id": "1jnzDbpe_Qs9",
        "outputId": "cf5710aa-8399-4103-c6d6-27cc516afeca"
      },
      "execution_count": null,
      "outputs": [
        {
          "output_type": "execute_result",
          "data": {
            "text/plain": [
              "array([0.53434921, 0.144254  , 0.67110986])"
            ]
          },
          "metadata": {},
          "execution_count": 5
        }
      ]
    },
    {
      "cell_type": "code",
      "source": [
        "#concatenate two array vertically\n",
        "a = np.array([[1, 2], [3, 4]])\n",
        "b = np.array([[5, 6]])\n",
        "np.concatenate((a, b), axis=0)"
      ],
      "metadata": {
        "colab": {
          "base_uri": "https://localhost:8080/"
        },
        "id": "nWD4w6SofxQo",
        "outputId": "9cb4a97a-6356-498b-9527-573829f7e02f"
      },
      "execution_count": null,
      "outputs": [
        {
          "output_type": "execute_result",
          "data": {
            "text/plain": [
              "array([[1, 2],\n",
              "       [3, 4],\n",
              "       [5, 6]])"
            ]
          },
          "metadata": {},
          "execution_count": 3
        }
      ]
    },
    {
      "cell_type": "code",
      "source": [
        "#concatenate two array horizontally\n",
        "a = np.array([[1, 2], [3, 4]])\n",
        "b = np.array([[5, 6]])\n",
        "np.concatenate((a, b.T), axis=1)"
      ],
      "metadata": {
        "colab": {
          "base_uri": "https://localhost:8080/"
        },
        "id": "RdsOsvu4f8oy",
        "outputId": "1d9aba69-b256-4dcf-af30-c32ce340eda5"
      },
      "execution_count": null,
      "outputs": [
        {
          "output_type": "execute_result",
          "data": {
            "text/plain": [
              "array([[1, 2, 5],\n",
              "       [3, 4, 6]])"
            ]
          },
          "metadata": {},
          "execution_count": 4
        }
      ]
    },
    {
      "cell_type": "code",
      "source": [
        "#concatenate two array flattened\n",
        "np.concatenate((a, b), axis=None)"
      ],
      "metadata": {
        "colab": {
          "base_uri": "https://localhost:8080/"
        },
        "id": "WHmzzG0igJgg",
        "outputId": "2c1ec657-a9ea-45e4-888d-f24398a8f34c"
      },
      "execution_count": null,
      "outputs": [
        {
          "output_type": "execute_result",
          "data": {
            "text/plain": [
              "array([1, 2, 3, 4, 5, 6])"
            ]
          },
          "metadata": {},
          "execution_count": 5
        }
      ]
    },
    {
      "cell_type": "code",
      "source": [
        "#conventional flatten method \n",
        "kaka = np.array([[1, 2, 5],\n",
        "       [3, 4, 6]])\n",
        "kaka.flatten()"
      ],
      "metadata": {
        "colab": {
          "base_uri": "https://localhost:8080/"
        },
        "id": "j5fBeXRagTSC",
        "outputId": "0d6a42b0-80db-4439-cb2c-da236caec574"
      },
      "execution_count": null,
      "outputs": [
        {
          "output_type": "execute_result",
          "data": {
            "text/plain": [
              "array([1, 2, 5, 3, 4, 6])"
            ]
          },
          "metadata": {},
          "execution_count": 13
        }
      ]
    },
    {
      "cell_type": "code",
      "source": [
        "#normally distributed gaussian \n",
        "np.random.normal(size=(2,2))"
      ],
      "metadata": {
        "colab": {
          "base_uri": "https://localhost:8080/"
        },
        "id": "RXkj8STNk0OF",
        "outputId": "34cf5396-7107-4517-93d3-d52c3a7ce1a4"
      },
      "execution_count": null,
      "outputs": [
        {
          "output_type": "execute_result",
          "data": {
            "text/plain": [
              "array([[-1.19753302, -0.20265131],\n",
              "       [-0.39550145, -2.29847797]])"
            ]
          },
          "metadata": {},
          "execution_count": 23
        }
      ]
    },
    {
      "cell_type": "markdown",
      "source": [
        "learn about class\n",
        "vanishing gradient"
      ],
      "metadata": {
        "id": "LjyeRYRyPqCj"
      }
    },
    {
      "cell_type": "code",
      "source": [
        "L = np.floor(min(min(X),min(Y))) # lowest quantized bin\n",
        "H = np.ceil(max(max(X),max(Y))) # highest quantized bin"
      ],
      "metadata": {
        "id": "PGNNnlHLEQ2d",
        "colab": {
          "base_uri": "https://localhost:8080/",
          "height": 188
        },
        "outputId": "af4ea3f1-0e62-418d-a891-750d639710a8"
      },
      "execution_count": null,
      "outputs": [
        {
          "output_type": "error",
          "ename": "NameError",
          "evalue": "ignored",
          "traceback": [
            "\u001b[0;31m---------------------------------------------------------------------------\u001b[0m",
            "\u001b[0;31mNameError\u001b[0m                                 Traceback (most recent call last)",
            "\u001b[0;32m<ipython-input-6-bddc0a60efcb>\u001b[0m in \u001b[0;36m<module>\u001b[0;34m()\u001b[0m\n\u001b[0;32m----> 1\u001b[0;31m \u001b[0mL\u001b[0m \u001b[0;34m=\u001b[0m \u001b[0mnp\u001b[0m\u001b[0;34m.\u001b[0m\u001b[0mfloor\u001b[0m\u001b[0;34m(\u001b[0m\u001b[0mmin\u001b[0m\u001b[0;34m(\u001b[0m\u001b[0mmin\u001b[0m\u001b[0;34m(\u001b[0m\u001b[0mX\u001b[0m\u001b[0;34m)\u001b[0m\u001b[0;34m,\u001b[0m\u001b[0mmin\u001b[0m\u001b[0;34m(\u001b[0m\u001b[0mY\u001b[0m\u001b[0;34m)\u001b[0m\u001b[0;34m)\u001b[0m\u001b[0;34m)\u001b[0m \u001b[0;31m# lowest quantized bin\u001b[0m\u001b[0;34m\u001b[0m\u001b[0;34m\u001b[0m\u001b[0m\n\u001b[0m\u001b[1;32m      2\u001b[0m \u001b[0mH\u001b[0m \u001b[0;34m=\u001b[0m \u001b[0mnp\u001b[0m\u001b[0;34m.\u001b[0m\u001b[0mceil\u001b[0m\u001b[0;34m(\u001b[0m\u001b[0mmax\u001b[0m\u001b[0;34m(\u001b[0m\u001b[0mmax\u001b[0m\u001b[0;34m(\u001b[0m\u001b[0mX\u001b[0m\u001b[0;34m)\u001b[0m\u001b[0;34m,\u001b[0m\u001b[0mmax\u001b[0m\u001b[0;34m(\u001b[0m\u001b[0mY\u001b[0m\u001b[0;34m)\u001b[0m\u001b[0;34m)\u001b[0m\u001b[0;34m)\u001b[0m \u001b[0;31m# highest quantized bin\u001b[0m\u001b[0;34m\u001b[0m\u001b[0;34m\u001b[0m\u001b[0m\n",
            "\u001b[0;31mNameError\u001b[0m: name 'X' is not defined"
          ]
        }
      ]
    },
    {
      "cell_type": "code",
      "source": [
        "x=np.random.rand(2,3)\n",
        "y=np.random.rand(2,3)"
      ],
      "metadata": {
        "id": "k63cvIEMRNTz"
      },
      "execution_count": null,
      "outputs": []
    },
    {
      "cell_type": "code",
      "source": [
        "x@y.T"
      ],
      "metadata": {
        "colab": {
          "base_uri": "https://localhost:8080/"
        },
        "id": "QK2uC78GWL3Y",
        "outputId": "0aaef9f1-e0ca-42b0-e421-649d095acf75"
      },
      "execution_count": null,
      "outputs": [
        {
          "output_type": "execute_result",
          "data": {
            "text/plain": [
              "array([[0.74867414, 1.09113947],\n",
              "       [0.18732985, 0.36570919]])"
            ]
          },
          "metadata": {},
          "execution_count": 10
        }
      ]
    },
    {
      "cell_type": "code",
      "source": [
        "np.dot(x,y.T)==x@y.T\n",
        "#dot product == matrix multiplcation"
      ],
      "metadata": {
        "colab": {
          "base_uri": "https://localhost:8080/"
        },
        "id": "Cfu5OJI8WS42",
        "outputId": "1fe81ec5-05ee-4752-c34e-f697f229799d"
      },
      "execution_count": null,
      "outputs": [
        {
          "output_type": "execute_result",
          "data": {
            "text/plain": [
              "array([[ True,  True],\n",
              "       [ True,  True]])"
            ]
          },
          "metadata": {},
          "execution_count": 11
        }
      ]
    },
    {
      "cell_type": "markdown",
      "source": [
        "## **Pandas**"
      ],
      "metadata": {
        "id": "bz-82-KdmNzT"
      }
    },
    {
      "cell_type": "markdown",
      "source": [
        "load csv list and extract columns"
      ],
      "metadata": {
        "id": "AlVYDblVag2o"
      }
    },
    {
      "cell_type": "code",
      "source": [
        "import pandas as pd"
      ],
      "metadata": {
        "id": "BNenQ1mOJv9j"
      },
      "execution_count": null,
      "outputs": []
    },
    {
      "cell_type": "code",
      "source": [
        "col_list = [\"ThumbZ1\", \"IndexZ1\",'MiddleZ1','RingZ1','PinkyZ1']\n",
        "df = pd.read_csv(\"coords.csv\", usecols=col_list)\n",
        "print(df['IndexZ1'])"
      ],
      "metadata": {
        "id": "w9UFhIK4Wb0-"
      },
      "execution_count": null,
      "outputs": []
    },
    {
      "cell_type": "markdown",
      "source": [
        "Load csv as metadata"
      ],
      "metadata": {
        "id": "vxGFRz1FJ2lV"
      }
    },
    {
      "cell_type": "code",
      "source": [
        "#specify csv path\n",
        "csvpath = '/content/coordsss.csv'\n",
        "metadata = pd.read_csv(csvpath,on_bad_lines='skip')\n",
        "print(metadata.head())\n",
        "thumbx = metadata[\"IndexX1\"]\n",
        "thumby = np.array(metadata[\"IndexY1\"])\n"
      ],
      "metadata": {
        "id": "as5RYUXXJuvR"
      },
      "execution_count": null,
      "outputs": []
    },
    {
      "cell_type": "code",
      "source": [
        "#insert columns\n",
        "extracted_features = [1,2,3,4,5]\n",
        "df = pd.DataFrame(extracted_features)\n",
        "df.columns = ['feature','label']\n"
      ],
      "metadata": {
        "id": "gtRUTsgcvNGi"
      },
      "execution_count": null,
      "outputs": []
    },
    {
      "cell_type": "markdown",
      "source": [
        "zip git repo file to download"
      ],
      "metadata": {
        "id": "KtNJ1C6s9hDI"
      }
    },
    {
      "cell_type": "code",
      "source": [
        "!zip -r /content/file.zip /content/Folder_To_Zip"
      ],
      "metadata": {
        "id": "cxUsQ9hn9gQG"
      },
      "execution_count": null,
      "outputs": []
    },
    {
      "cell_type": "markdown",
      "source": [
        "git clone"
      ],
      "metadata": {
        "id": "GLu0eAaN9oYT"
      }
    },
    {
      "cell_type": "code",
      "source": [
        "!git clone https://github.com/modestyachts/CIFAR-10.1.git"
      ],
      "metadata": {
        "id": "Bt-73-eP9ljL"
      },
      "execution_count": null,
      "outputs": []
    },
    {
      "cell_type": "markdown",
      "source": [
        "Intall requirement using txt"
      ],
      "metadata": {
        "id": "LZpxbXIy9tr1"
      }
    },
    {
      "cell_type": "code",
      "source": [
        "!pip install -r requirements.txt"
      ],
      "metadata": {
        "id": "skBTr0pv9s8G"
      },
      "execution_count": null,
      "outputs": []
    },
    {
      "cell_type": "markdown",
      "source": [
        "Concadinate data and label into one dataset"
      ],
      "metadata": {
        "id": "kxFTmMJo90BU"
      }
    },
    {
      "cell_type": "code",
      "source": [
        "from torch.utils.data import DataLoader , TensorDataset\n",
        "dataset = TensorDataset( Tensor(cifar_v6_data), Tensor(cifar_v6_label) )"
      ],
      "metadata": {
        "id": "6lwe9ONP94P0"
      },
      "execution_count": null,
      "outputs": []
    },
    {
      "cell_type": "code",
      "source": [
        "x = 2023482348234\n",
        "print(x % 3)"
      ],
      "metadata": {
        "colab": {
          "base_uri": "https://localhost:8080/"
        },
        "id": "iQ7yKL2PcqB5",
        "outputId": "d4717da9-9ffc-40c6-f8f0-bf3d4cfcb8fd"
      },
      "execution_count": null,
      "outputs": [
        {
          "output_type": "stream",
          "name": "stdout",
          "text": [
            "0\n"
          ]
        }
      ]
    },
    {
      "cell_type": "code",
      "source": [],
      "metadata": {
        "id": "UuA4whERcxkj"
      },
      "execution_count": null,
      "outputs": []
    },
    {
      "cell_type": "markdown",
      "source": [
        "Folder file iteration"
      ],
      "metadata": {
        "id": "Ijyghafe9zO0"
      }
    },
    {
      "cell_type": "code",
      "source": [
        "data_dir = \"Dataset/\"\n",
        "path_dir = pathlib.Path(\"Dataset\") \n",
        "class_names = np.array(sorted([item.name for item in path_dir.glob('*')]))\n",
        "print(class_names)"
      ],
      "metadata": {
        "id": "rXBnim46vblQ"
      },
      "execution_count": null,
      "outputs": []
    },
    {
      "cell_type": "markdown",
      "source": [
        "['Mild_Demented' 'Moderate_Demented' 'Non_Demented' 'Very_Mild_Demented']"
      ],
      "metadata": {
        "id": "6zVsptwwvhE9"
      }
    },
    {
      "cell_type": "code",
      "source": [],
      "metadata": {
        "id": "pR9rGx4zvhlh"
      },
      "execution_count": null,
      "outputs": []
    }
  ]
}